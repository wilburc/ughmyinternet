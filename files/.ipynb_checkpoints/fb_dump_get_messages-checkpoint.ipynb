{
 "cells": [
  {
   "cell_type": "code",
   "execution_count": 1,
   "metadata": {
    "collapsed": true
   },
   "outputs": [],
   "source": [
    "from bs4 import BeautifulSoup\n",
    "import pandas as pd\n",
    "\n",
    "from datetime import datetime\n",
    "import csv\n",
    "from collections import defaultdict"
   ]
  },
  {
   "cell_type": "code",
   "execution_count": 2,
   "metadata": {
    "collapsed": true,
    "scrolled": true
   },
   "outputs": [],
   "source": [
    "fname = '119.html'\n",
    "f = open(fname)\n",
    "soup = BeautifulSoup(f,'lxml')"
   ]
  },
  {
   "cell_type": "code",
   "execution_count": 3,
   "metadata": {
    "collapsed": true
   },
   "outputs": [],
   "source": [
    "people = [p.text.encode('utf-8') for p in soup.find_all(\"span\",\"user\")]\n",
    "times = [t.text.encode('utf-8') for t in soup.find_all(\"span\",\"meta\")]\n",
    "messages = [m.text.encode('utf-8') for m in soup.find_all(\"p\")]"
   ]
  },
  {
   "cell_type": "code",
   "execution_count": 4,
   "metadata": {
    "collapsed": true
   },
   "outputs": [],
   "source": [
    "if len(messages) == len(times) * 2:\n",
    "    messages = messages[1::2]"
   ]
  },
  {
   "cell_type": "code",
   "execution_count": 5,
   "metadata": {},
   "outputs": [
    {
     "data": {
      "text/plain": [
       "455789"
      ]
     },
     "execution_count": 5,
     "metadata": {},
     "output_type": "execute_result"
    }
   ],
   "source": [
    "len(times)"
   ]
  },
  {
   "cell_type": "code",
   "execution_count": 7,
   "metadata": {
    "collapsed": true
   },
   "outputs": [],
   "source": [
    "conversation = []\n",
    "if len(times) == len(people) == len(messages):\n",
    "    for i in range(len(people)):\n",
    "        person = people[i]\n",
    "        time = times[i]\n",
    "        message = messages[i]\n",
    "        thing = {\n",
    "            'Person':person,\n",
    "            'Time':time,\n",
    "            'Message':message\n",
    "        }\n",
    "        conversation.append(thing)"
   ]
  },
  {
   "cell_type": "code",
   "execution_count": 8,
   "metadata": {
    "collapsed": true
   },
   "outputs": [],
   "source": [
    "df = pd.DataFrame(data=conversation)"
   ]
  },
  {
   "cell_type": "code",
   "execution_count": 9,
   "metadata": {
    "collapsed": true
   },
   "outputs": [],
   "source": [
    "df['Time'] = pd.to_datetime(df['Time'], format='%A, %B %d, %Y at %I:%M%p %Z')\n",
    "df['Date'] = df['Time'].apply(lambda x: x.strftime('%Y/%m/%d'))\n",
    "df['Time'] = df['Time'].apply(lambda x: x.strftime('%H:%M'))"
   ]
  },
  {
   "cell_type": "code",
   "execution_count": 10,
   "metadata": {
    "collapsed": true
   },
   "outputs": [],
   "source": [
    "df = df.sort_index(ascending=True)"
   ]
  },
  {
   "cell_type": "code",
   "execution_count": 11,
   "metadata": {
    "collapsed": true
   },
   "outputs": [],
   "source": [
    "df.to_csv('conversation.csv',index=False)"
   ]
  },
  {
   "cell_type": "code",
   "execution_count": 2,
   "metadata": {
    "collapsed": true
   },
   "outputs": [],
   "source": [
    "df = pd.read_csv('conversation.csv')"
   ]
  },
  {
   "cell_type": "code",
   "execution_count": 3,
   "metadata": {
    "collapsed": true
   },
   "outputs": [],
   "source": [
    "users = df['Person'].unique()\n",
    "counts = defaultdict(lambda:{user:0 for user in users})"
   ]
  },
  {
   "cell_type": "code",
   "execution_count": 4,
   "metadata": {
    "collapsed": true
   },
   "outputs": [],
   "source": [
    "start = df['Date'].min()\n",
    "end = df['Date'].max()\n",
    "for date in pd.date_range(start=start,end=end):\n",
    "    date_df = df[df['Date'] == date.strftime('%Y/%m/%d')]\n",
    "    for user in users:\n",
    "        counts[date][user] = len(date_df[date_df['Person'] == user])\n",
    "        counts[date]['Total'] = len(date_df)\n",
    "counts = pd.DataFrame.from_dict(counts)   "
   ]
  },
  {
   "cell_type": "code",
   "execution_count": 5,
   "metadata": {
    "collapsed": true
   },
   "outputs": [],
   "source": [
    "counts = counts.T"
   ]
  },
  {
   "cell_type": "code",
   "execution_count": 7,
   "metadata": {
    "collapsed": true
   },
   "outputs": [],
   "source": [
    "counts['Date'] = counts.index"
   ]
  },
  {
   "cell_type": "code",
   "execution_count": 8,
   "metadata": {
    "collapsed": true
   },
   "outputs": [],
   "source": [
    "counts = counts[['Date','Josh Huang','Wilbur Chen','Thao Nguyen','Total']]"
   ]
  },
  {
   "cell_type": "code",
   "execution_count": 9,
   "metadata": {
    "collapsed": true
   },
   "outputs": [],
   "source": [
    "counts.to_csv('datecounts.csv',index=False)"
   ]
  },
  {
   "cell_type": "code",
   "execution_count": 268,
   "metadata": {
    "collapsed": true
   },
   "outputs": [],
   "source": [
    "df = pd.read_csv('conversation.csv')"
   ]
  },
  {
   "cell_type": "code",
   "execution_count": 269,
   "metadata": {
    "collapsed": true
   },
   "outputs": [],
   "source": [
    "def date_to_day(date):\n",
    "    date = datetime.strptime(date,'%Y/%m/%d')\n",
    "    day = date.weekday()\n",
    "    return day\n",
    "\n",
    "df['Day'] = df.apply(lambda row: date_to_day(row['Date']), axis=1)\n",
    "df['Hour'] = df.apply(lambda row: row['Time'][0:2], axis=1)"
   ]
  },
  {
   "cell_type": "code",
   "execution_count": 271,
   "metadata": {
    "collapsed": true
   },
   "outputs": [],
   "source": [
    "hour_day = df.groupby([df['Day'],df['Hour']]).count()\n",
    "hour_date = df.groupby([df['Date'],df['Hour']]).count()\n",
    "\n",
    "hour_day = hour_day.reset_index()\n",
    "hour_date = hour_date.reset_index()\n",
    "\n",
    "hour_day = hour_day[['Day','Hour','Time']]\n",
    "hour_date = hour_date[['Hour','Time']]"
   ]
  },
  {
   "cell_type": "code",
   "execution_count": 272,
   "metadata": {
    "collapsed": true
   },
   "outputs": [],
   "source": [
    "hour1 = hour_day[['Hour','Time']]\n",
    "hour2 = hour_date[['Hour','Time']]\n",
    "\n",
    "hour_total = hour1.groupby([hour1['Hour']]).sum()\n",
    "hour_average = hour2.groupby([hour2['Hour']]).mean()\n",
    "hour_median = hour2.groupby([hour2['Hour']]).median()\n",
    "\n",
    "hour_total = hour_total.reset_index()\n",
    "hour_average = hour_average.reset_index()\n",
    "hour_median = hour_median.reset_index()\n",
    "\n",
    "hour_total = hour_total.rename(columns={'Time':'Total'})\n",
    "hour_average = hour_average.rename(columns={'Time':'Average'})\n",
    "hour_median = hour_median.rename(columns={'Time':'Median'})\n",
    "\n",
    "hour_stats = hour_total.merge(hour_average)\n",
    "hour_stats = hour_stats.merge(hour_median)"
   ]
  },
  {
   "cell_type": "code",
   "execution_count": 273,
   "metadata": {
    "collapsed": true
   },
   "outputs": [],
   "source": [
    "counts = df.groupby([df['Day'],df['Date']]).count()\n",
    "counts = counts.reset_index()\n",
    "days = counts[['Day','Time']]"
   ]
  },
  {
   "cell_type": "code",
   "execution_count": 274,
   "metadata": {
    "collapsed": true
   },
   "outputs": [],
   "source": [
    "day_average = days.groupby([days['Day']]).mean()\n",
    "day_total = days.groupby([days['Day']]).sum()\n",
    "day_median = days.groupby([days['Day']]).median()"
   ]
  },
  {
   "cell_type": "code",
   "execution_count": 275,
   "metadata": {
    "collapsed": true
   },
   "outputs": [],
   "source": [
    "day_average = day_average.reset_index()\n",
    "day_total = day_total.reset_index()\n",
    "day_median = day_median.reset_index()\n",
    "\n",
    "day_average = day_average.rename(columns={'Time':'Average'})\n",
    "day_total = day_total.rename(columns={'Time':'Total'})\n",
    "day_median = day_median.rename(columns={'Time':'Median'})"
   ]
  },
  {
   "cell_type": "code",
   "execution_count": 276,
   "metadata": {
    "collapsed": true
   },
   "outputs": [],
   "source": [
    "day_stats = day_total.merge(day_average)\n",
    "day_stats = day_stats.merge(day_median)"
   ]
  },
  {
   "cell_type": "code",
   "execution_count": 339,
   "metadata": {
    "collapsed": true
   },
   "outputs": [],
   "source": [
    "def daynum_to_daystr(daynum):\n",
    "    days = ['Mon','Tues','Wed','Thurs','Fri','Sat','Sun']\n",
    "    try:\n",
    "        day = days[int(daynum)]\n",
    "    except ValueError:\n",
    "        day = daynum\n",
    "    return day\n",
    "                \n",
    "day_stats['Day'] = day_stats.apply(lambda row: daynum_to_daystr(row['Day']), axis=1)\n",
    "day_stats.to_csv('day_stats.csv',index=False)"
   ]
  },
  {
   "cell_type": "code",
   "execution_count": 288,
   "metadata": {
    "collapsed": true
   },
   "outputs": [],
   "source": [
    "hour_stats.to_csv('hour_stats.csv',index=False)"
   ]
  },
  {
   "cell_type": "code",
   "execution_count": 325,
   "metadata": {
    "collapsed": true
   },
   "outputs": [],
   "source": [
    "hour_day_date = df.groupby([df['Date'],df['Hour'],df['Day']]).count()"
   ]
  },
  {
   "cell_type": "code",
   "execution_count": 326,
   "metadata": {
    "collapsed": true
   },
   "outputs": [],
   "source": [
    "hour_day_date = hour_day_date.reset_index()\n",
    "hour_day_date = hour_day_date[['Hour','Day','Time']]"
   ]
  },
  {
   "cell_type": "code",
   "execution_count": 332,
   "metadata": {
    "collapsed": true
   },
   "outputs": [],
   "source": [
    "hdd_total = hour_day_date.groupby([hour_day_date['Hour'],hour_day_date['Day']]).sum()\n",
    "hdd_average = hour_day_date.groupby([hour_day_date['Hour'],hour_day_date['Day']]).mean()\n",
    "hdd_median = hour_day_date.groupby([hour_day_date['Hour'],hour_day_date['Day']]).median()\n",
    "\n",
    "hdd_total = hdd_total.reset_index()\n",
    "hdd_average = hdd_average.reset_index()\n",
    "hdd_median = hdd_median.reset_index()\n",
    "\n",
    "hdd_total = hdd_total.rename(columns={'Time':'Total'})\n",
    "hdd_average = hdd_average.rename(columns={'Time':'Average'})\n",
    "hdd_median = hdd_median.rename(columns={'Time':'Median'})"
   ]
  },
  {
   "cell_type": "code",
   "execution_count": 333,
   "metadata": {
    "collapsed": true
   },
   "outputs": [],
   "source": [
    "hdd = hdd_total.merge(hdd_average)\n",
    "hdd = hdd.merge(hdd_median)"
   ]
  },
  {
   "cell_type": "code",
   "execution_count": 334,
   "metadata": {
    "collapsed": true
   },
   "outputs": [],
   "source": [
    "hdd = hdd.sort_values(by=['Day','Hour'])"
   ]
  },
  {
   "cell_type": "code",
   "execution_count": 342,
   "metadata": {},
   "outputs": [],
   "source": [
    "def daynum_to_daystr(daynum):\n",
    "    days = ['Mon','Tues','Wed','Thurs','Fri','Sat','Sun']\n",
    "    try:\n",
    "        day = days[int(daynum)]\n",
    "    except ValueError:\n",
    "        day = daynum\n",
    "    return day\n",
    "\n",
    "def hournum_to_hourstr(hournum):\n",
    "    if hournum >= 12:\n",
    "        hourstr = hournum.lstrip('0') + ' p.m.'\n",
    "    else:\n",
    "        hourstr = hournum\n",
    "    return hourstr\n",
    "\n",
    "hdd['Day'] = hdd.apply(lambda row: daynum_to_daystr(row['Day']),axis=1)\n",
    "hdd['DayHour'] = hdd.apply(lambda row: row['Day'] + ' ' + hournum_to_hourstr(row['Hour']), axis=1)\n",
    "hdd.to_csv('hdd.csv',index=False)"
   ]
  },
  {
   "cell_type": "code",
   "execution_count": null,
   "metadata": {
    "collapsed": true
   },
   "outputs": [],
   "source": []
  }
 ],
 "metadata": {
  "kernelspec": {
   "display_name": "Python 2",
   "language": "python",
   "name": "python2"
  },
  "language_info": {
   "codemirror_mode": {
    "name": "ipython",
    "version": 2
   },
   "file_extension": ".py",
   "mimetype": "text/x-python",
   "name": "python",
   "nbconvert_exporter": "python",
   "pygments_lexer": "ipython2",
   "version": "2.7.13"
  }
 },
 "nbformat": 4,
 "nbformat_minor": 1
}
